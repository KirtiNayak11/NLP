{
  "metadata": {
    "kernelspec": {
      "language": "python",
      "display_name": "Python 3",
      "name": "python3"
    },
    "language_info": {
      "name": "python",
      "version": "3.10.12",
      "mimetype": "text/x-python",
      "codemirror_mode": {
        "name": "ipython",
        "version": 3
      },
      "pygments_lexer": "ipython3",
      "nbconvert_exporter": "python",
      "file_extension": ".py"
    },
    "kaggle": {
      "accelerator": "none",
      "dataSources": [
        {
          "sourceId": 1357156,
          "sourceType": "datasetVersion",
          "datasetId": 790209
        }
      ],
      "dockerImageVersionId": 30918,
      "isInternetEnabled": true,
      "language": "python",
      "sourceType": "notebook",
      "isGpuEnabled": false
    },
    "colab": {
      "provenance": [],
      "include_colab_link": true
    }
  },
  "nbformat_minor": 0,
  "nbformat": 4,
  "cells": [
    {
      "cell_type": "markdown",
      "metadata": {
        "id": "view-in-github",
        "colab_type": "text"
      },
      "source": [
        "<a href=\"https://colab.research.google.com/github/KirtiNayak11/NLP/blob/main/english_to_hindi_translator_machine_translation.ipynb\" target=\"_parent\"><img src=\"https://colab.research.google.com/assets/colab-badge.svg\" alt=\"Open In Colab\"/></a>"
      ]
    },
    {
      "cell_type": "code",
      "source": [
        "import pandas as pd\n",
        "import numpy as np"
      ],
      "metadata": {
        "trusted": true,
        "id": "Wi4QBXX2H30X"
      },
      "outputs": [],
      "execution_count": null
    },
    {
      "cell_type": "code",
      "source": [
        "df = pd.read_csv('/kaggle/input/hindi-english-truncated-corpus/Hindi_English_Truncated_Corpus.csv')"
      ],
      "metadata": {
        "trusted": true,
        "id": "Zz5C_ocfH30b"
      },
      "outputs": [],
      "execution_count": null
    },
    {
      "cell_type": "code",
      "source": [
        "df.head()"
      ],
      "metadata": {
        "trusted": true,
        "id": "HsP7TrWEH30c"
      },
      "outputs": [],
      "execution_count": null
    },
    {
      "cell_type": "code",
      "source": [
        "df['source'].value_counts()"
      ],
      "metadata": {
        "trusted": true,
        "id": "u2amKpiAH30d"
      },
      "outputs": [],
      "execution_count": null
    },
    {
      "cell_type": "code",
      "source": [
        "df_copy = df.copy()"
      ],
      "metadata": {
        "trusted": true,
        "id": "lt2_5d9DH30e"
      },
      "outputs": [],
      "execution_count": null
    },
    {
      "cell_type": "code",
      "source": [
        "df = df[df['source']=='ted']"
      ],
      "metadata": {
        "trusted": true,
        "id": "t5QfCw3GH30e"
      },
      "outputs": [],
      "execution_count": null
    },
    {
      "cell_type": "code",
      "source": [
        "df.head()"
      ],
      "metadata": {
        "trusted": true,
        "id": "09kUNIZdH30f"
      },
      "outputs": [],
      "execution_count": null
    },
    {
      "cell_type": "code",
      "source": [
        "df.drop_duplicates(inplace=True)"
      ],
      "metadata": {
        "trusted": true,
        "id": "03N3815EH30f"
      },
      "outputs": [],
      "execution_count": null
    },
    {
      "cell_type": "code",
      "source": [
        "df = df.sample(n=25000,random_state=101)\n",
        "df.shape"
      ],
      "metadata": {
        "trusted": true,
        "id": "H7FSJsM9H30g"
      },
      "outputs": [],
      "execution_count": null
    },
    {
      "cell_type": "code",
      "source": [
        "df.head()"
      ],
      "metadata": {
        "trusted": true,
        "id": "skPsUo3pH30h"
      },
      "outputs": [],
      "execution_count": null
    },
    {
      "cell_type": "code",
      "source": [
        "df.dropna(inplace=True)"
      ],
      "metadata": {
        "trusted": true,
        "id": "tmCfUpqYH30h"
      },
      "outputs": [],
      "execution_count": null
    },
    {
      "cell_type": "code",
      "source": [
        "df.shape"
      ],
      "metadata": {
        "trusted": true,
        "id": "hAX63uIoH30h"
      },
      "outputs": [],
      "execution_count": null
    },
    {
      "cell_type": "markdown",
      "source": [
        "**Data Preprocessing**"
      ],
      "metadata": {
        "id": "pqpLDXGEH30i"
      }
    },
    {
      "cell_type": "code",
      "source": [
        "df['english_sentence'] = df['english_sentence'].apply(lambda x:x.lower())\n",
        "df['hindi_sentence'] = df['hindi_sentence'].apply(lambda x:x.lower())"
      ],
      "metadata": {
        "trusted": true,
        "id": "uSjglGrTH30k"
      },
      "outputs": [],
      "execution_count": null
    },
    {
      "cell_type": "code",
      "source": [
        "import re"
      ],
      "metadata": {
        "trusted": true,
        "id": "EuJaK111H30l"
      },
      "outputs": [],
      "execution_count": null
    },
    {
      "cell_type": "code",
      "source": [
        "df['english_sentence'] = df['english_sentence'].apply(lambda x : re.sub(\"'\",'',x))\n",
        "df['hindi_sentence'] = df['hindi_sentence'].apply(lambda x : re.sub(\"'\",'',x))"
      ],
      "metadata": {
        "trusted": true,
        "id": "Kl2OSiaqH30l"
      },
      "outputs": [],
      "execution_count": null
    },
    {
      "cell_type": "code",
      "source": [
        "import string\n",
        "from string import digits"
      ],
      "metadata": {
        "trusted": true,
        "id": "pSGXt-GbH30m"
      },
      "outputs": [],
      "execution_count": null
    },
    {
      "cell_type": "code",
      "source": [
        "exclude = set(string.punctuation)\n",
        "df['english_sentence'] = df['english_sentence'].apply(lambda x:''.join(ch for ch in x if ch not in exclude))\n",
        "df['hindi_sentence'] = df['hindi_sentence'].apply(lambda x:''.join(ch for ch in x if ch not in exclude))"
      ],
      "metadata": {
        "trusted": true,
        "id": "90YDPpKhH30m"
      },
      "outputs": [],
      "execution_count": null
    },
    {
      "cell_type": "code",
      "source": [
        "remove_digits = str.maketrans('','',digits)\n",
        "df['english_sentence']=df['english_sentence'].apply(lambda x:x.translate(remove_digits))\n",
        "df['hindi_sentence']=df['hindi_sentence'].apply(lambda x:x.translate(remove_digits))\n",
        "df['hindi_sentence']=df['hindi_sentence'].apply(lambda x:re.sub(\"[२३०८१५७९४६]\",\"\",x))"
      ],
      "metadata": {
        "trusted": true,
        "id": "_N_3mEuoH30n"
      },
      "outputs": [],
      "execution_count": null
    },
    {
      "cell_type": "code",
      "source": [
        "df['english_sentence']=df['english_sentence'].apply(lambda x:x.strip())\n",
        "df['hindi_sentence']=df['hindi_sentence'].apply(lambda x:x.strip())\n",
        "df['english_sentence']=df['english_sentence'].apply(lambda x:re.sub(\" +\",\" \",x))\n",
        "df['hindi_sentence']=df['hindi_sentence'].apply(lambda x:re.sub(\" +\",\" \",x))"
      ],
      "metadata": {
        "trusted": true,
        "id": "bA1Bcz4NH30n"
      },
      "outputs": [],
      "execution_count": null
    },
    {
      "cell_type": "code",
      "source": [
        "df['english_sentence'] = df['english_sentence'].apply(lambda x:re.sub(\"a-zA-Z\",\" \",x))"
      ],
      "metadata": {
        "trusted": true,
        "id": "WaN6DKXYH30n"
      },
      "outputs": [],
      "execution_count": null
    },
    {
      "cell_type": "code",
      "source": [
        "import nltk\n",
        "from nltk.corpus import stopwords"
      ],
      "metadata": {
        "trusted": true,
        "id": "lR1AB4A8H30o"
      },
      "outputs": [],
      "execution_count": null
    },
    {
      "cell_type": "code",
      "source": [
        "stop_words = stopwords.words('english')"
      ],
      "metadata": {
        "trusted": true,
        "id": "K7711AblH30o"
      },
      "outputs": [],
      "execution_count": null
    },
    {
      "cell_type": "code",
      "source": [
        "corpus=' '\n",
        "for line in df['english_sentence']:\n",
        "    corpus+=' '.join(line.split())\n",
        "corpus"
      ],
      "metadata": {
        "trusted": true,
        "id": "PpFrHxVvH30o"
      },
      "outputs": [],
      "execution_count": null
    },
    {
      "cell_type": "code",
      "source": [
        "from wordcloud import WordCloud\n",
        "\n",
        "wc = WordCloud(stopwords=stop_words,background_color='white',colormap='Dark2',max_font_size=150)\n",
        "wc.generate(corpus)"
      ],
      "metadata": {
        "trusted": true,
        "id": "reyAhsMSH30o"
      },
      "outputs": [],
      "execution_count": null
    },
    {
      "cell_type": "code",
      "source": [
        "import matplotlib.pyplot as plt"
      ],
      "metadata": {
        "trusted": true,
        "id": "eRJoQfKyH30p"
      },
      "outputs": [],
      "execution_count": null
    },
    {
      "cell_type": "code",
      "source": [
        "plt.rcParams[\"figure.figsize\"] = (16,6)\n",
        "plt.imshow(wc, interpolation=\"bilinear\")\n",
        "plt.axis(\"off\")\n",
        "\n",
        "plt.show()"
      ],
      "metadata": {
        "trusted": true,
        "id": "Riyr9o3DH30p"
      },
      "outputs": [],
      "execution_count": null
    },
    {
      "cell_type": "code",
      "source": [
        "input_texts=[]\n",
        "target_texts=[]\n",
        "\n",
        "input_characters=set()\n",
        "target_characters=set()"
      ],
      "metadata": {
        "trusted": true,
        "id": "HAlUd3TfH30q"
      },
      "outputs": [],
      "execution_count": null
    },
    {
      "cell_type": "code",
      "source": [
        "for line in df['english_sentence']:\n",
        "    input_texts.append(line)\n",
        "    for char in line:\n",
        "        if re.findall('[a-zA-Z]',char) or char==' ':\n",
        "            if char not in input_characters:\n",
        "                input_characters.add(char)\n",
        "\n",
        "for line in df['hindi_sentence']:\n",
        "    target_texts.append('%' + line + '$')\n",
        "\n",
        "    for char in target_texts:\n",
        "        if char not in target_characters:\n",
        "            target_characters.add(char)\n"
      ],
      "metadata": {
        "trusted": true,
        "id": "BUeStGMnH30q"
      },
      "outputs": [],
      "execution_count": null
    },
    {
      "cell_type": "code",
      "source": [
        "input_characters = sorted(list(input_characters))\n",
        "output_charactes = sorted(list(output_characters))\n",
        "\n",
        "num_encoder_tokens = len(input_characters)\n",
        "num_decoder_tokens = len(output_characters)\n",
        "\n",
        "max_encoder_seq_length = max([len(txt) for txt in input_texts])\n",
        "max_decoder_seq_length = max([len(txt) for txt in output_texts])"
      ],
      "metadata": {
        "trusted": true,
        "id": "6lV8vx3WH30r"
      },
      "outputs": [],
      "execution_count": null
    },
    {
      "cell_type": "code",
      "source": [
        "print(\"Number of samples : \", len(input_texts))\n",
        "print(\"Number of unique input tokens : \", num_encoder_tokens)\n",
        "print(\"Number of unique output tokens : \", num_decoder_tokens)\n",
        "print(\"Max sequence length for inputs : \", max_encoder_seq_length)\n",
        "print(\"Max sequence length for outputs : \", max_decoder_seq_length)"
      ],
      "metadata": {
        "trusted": true,
        "id": "c3TrvuzBH30r"
      },
      "outputs": [],
      "execution_count": null
    },
    {
      "cell_type": "code",
      "source": [
        "input_token_index = dict([(char,i) for i,char in enumerate(input_characters)])\n",
        "target_token_index = dict([(char,i) for i,char in enumerate(target_characters)])"
      ],
      "metadata": {
        "trusted": true,
        "id": "OHO3CxqZH30s"
      },
      "outputs": [],
      "execution_count": null
    },
    {
      "cell_type": "markdown",
      "source": [
        "**Encoder and Decoder Architecture**"
      ],
      "metadata": {
        "id": "wPtgqAtfH30s"
      }
    },
    {
      "cell_type": "code",
      "source": [
        "encoder_input_data = np.zeros((len(input_texts),max_encoder_seq_length,num_encoder_tokens),dtype='float32')\n",
        "decoder_input_data = np.zeros((len(input_texts),max_decoder_seq_length,num_decoder_tokens),dtype='float32')\n",
        "decoder_target_data = np.zeros((len(target_texts),max_decoder_seq_length,num_decoder_tokens),dtype='float32')"
      ],
      "metadata": {
        "trusted": true,
        "id": "c4lgNY0NH30s"
      },
      "outputs": [],
      "execution_count": null
    },
    {
      "cell_type": "code",
      "source": [
        "print(\"Encoder input data : \", encoder_input_data.shape)\n",
        "print(\"Decoder input data : \", decoder_input_data.shape)\n",
        "print(\"Decoder target data : \", decoder_target_data.shape)"
      ],
      "metadata": {
        "trusted": true,
        "id": "DY0iEAQLH30s"
      },
      "outputs": [],
      "execution_count": null
    },
    {
      "cell_type": "markdown",
      "source": [
        "# Coverting text into one hot encoding"
      ],
      "metadata": {
        "id": "Tv82R19jH30t"
      }
    },
    {
      "cell_type": "code",
      "source": [
        "for i, (input_text, target_text) in enumerate(zip(input_texts, target_texts)):\n",
        "    for t,char in enumerate(input_text):\n",
        "        if re.findall(\"[a-zA-Z]\",char) or char==' ':\n",
        "            encoder_input_data[i,t,input_token_index[char]]=1\n",
        "    encoder_input_data[i,t+1:,input_token_index[' ']]=1\n",
        "\n",
        "    for t,char in enumerate(target_text):\n",
        "        decoder_input_data[i,t,target_token_index[char]]=1\n",
        "\n",
        "        if t>0:\n",
        "            decoder_target_data[i,t-1,target_token_index[char]]=1\n",
        "\n",
        "    decoder_input_data[i,t+1:,target_token_index[' ']]=1\n",
        "    decoder_target_data[i,t:,target_token_index[' ']]=1"
      ],
      "metadata": {
        "trusted": true,
        "id": "SW-TuFJgH30t"
      },
      "outputs": [],
      "execution_count": null
    },
    {
      "cell_type": "code",
      "source": [
        "batch_size = 128 # Batch size for training\n",
        "epochs = 50 # Number of epochs to train for\n",
        "latent_dim = 256"
      ],
      "metadata": {
        "trusted": true,
        "id": "rfqEPhckH30t"
      },
      "outputs": [],
      "execution_count": null
    },
    {
      "cell_type": "markdown",
      "source": [
        "**Encoder and Decoder Architecture**"
      ],
      "metadata": {
        "id": "sjgyKuXpH30t"
      }
    },
    {
      "cell_type": "code",
      "source": [
        "encoder_input_data = np.zeros((len(input_texts),max_encoder_seq_length,num_encoder_tokens),dtype='float32')\n",
        "decoder_input_data = np.zeros((len(input_texts),max_decoder_seq_length,num_decoder_tokens),dtype='float32')\n",
        "decoder_target_data = np.zeros((len(target_texts),max_decoder_seq_length,num_decoder_tokens),dtype='float32')"
      ],
      "metadata": {
        "trusted": true,
        "id": "O5SfrPg2H305"
      },
      "outputs": [],
      "execution_count": null
    },
    {
      "cell_type": "code",
      "source": [
        "print(\"Encoder input data : \", encoder_input_data.shape)\n",
        "print(\"Decoder input data : \", decoder_input_data.shape)\n",
        "print(\"Decoder target data : \", decoder_target_data.shape)"
      ],
      "metadata": {
        "trusted": true,
        "id": "BAxcsvgpH305"
      },
      "outputs": [],
      "execution_count": null
    },
    {
      "cell_type": "markdown",
      "source": [
        "**Encoder LSTM model**"
      ],
      "metadata": {
        "id": "AnD51kmSH305"
      }
    },
    {
      "cell_type": "code",
      "source": [
        "encoder_inputs = Input(shape=(None,num_encoder_tokens))\n",
        "encoder = LSTM(latent_dim,return_state=True)\n",
        "encoder_outputs,state_h,state_c=encoder(encoder_inputs)\n",
        "\n",
        "encoder_states = [state_h,state_c]"
      ],
      "metadata": {
        "trusted": true,
        "id": "YWqDDOFrH306"
      },
      "outputs": [],
      "execution_count": null
    },
    {
      "cell_type": "code",
      "source": [
        "decoder_inputs = Input(shape=(None,num_decoder_tokens))\n",
        "decoder_lstm = LSTM(latent_dim,return_sequences=True,return_state=True)\n",
        "decoder_outputs,_,_ =decoder_lstm(decoder_inputs,initial_state=encoder_states)\n",
        "decoder_dense = Dense(num_decoder_tokens,activation='softmax')\n",
        "decoder_outputs=decoder_dense(decoder_outputs)"
      ],
      "metadata": {
        "trusted": true,
        "id": "-ol1D-A6H306"
      },
      "outputs": [],
      "execution_count": null
    },
    {
      "cell_type": "code",
      "source": [
        "model=Model([encoder_inputs,decoder_inputs],decoder_outputs)\n",
        "\n",
        "model.compile(optimizer='rmsprop', loss='categorical_crossentropy', metrics=['accuracy'])"
      ],
      "metadata": {
        "trusted": true,
        "id": "r2j_mRQmH306"
      },
      "outputs": [],
      "execution_count": null
    },
    {
      "cell_type": "code",
      "source": [
        "model.summary()"
      ],
      "metadata": {
        "trusted": true,
        "id": "ManjvN0JH306"
      },
      "outputs": [],
      "execution_count": null
    },
    {
      "cell_type": "markdown",
      "source": [
        "Encoder LSTM model"
      ],
      "metadata": {
        "id": "8h6Hc-FXH306"
      }
    },
    {
      "cell_type": "code",
      "source": [
        "checkpoint_path = \"/kaggle/working/training_1/cp.ckpt\"\n",
        "checkpoint_dir = os.path.dirname(checkpoint_path)\n",
        "\n",
        "# Create a callback that saves the model's weights\n",
        "cp_callback = tf.keras.callbacks.ModelCheckpoint(filepath=checkpoint_path,\n",
        "                                                 save_weights_only=True,\n",
        "                                                 verbose=1)"
      ],
      "metadata": {
        "trusted": true,
        "id": "uhL6pq2zH306"
      },
      "outputs": [],
      "execution_count": null
    },
    {
      "cell_type": "code",
      "source": [
        "model.fit([encoder_input_data,decoder_input_data],decoder_target_data,\n",
        "          batch_size=batch_size,\n",
        "          epochs=epochs,\n",
        "          validation_split=0.2,\n",
        "         callbacks=[cp_callback])"
      ],
      "metadata": {
        "trusted": true,
        "id": "6ghsVzMmH307"
      },
      "outputs": [],
      "execution_count": null
    },
    {
      "cell_type": "markdown",
      "source": [],
      "metadata": {
        "id": "MwrLTGScH307"
      }
    },
    {
      "cell_type": "code",
      "source": [
        "encoder_model = Model(encoder_inputs,encoder_states)\n",
        "\n",
        "decoder_state_input_h = Input(shape=(latent_dim,))\n",
        "decoder_state_input_c = Input(shape=(latent_dim,))\n",
        "\n",
        "decoder_state_inputs = [decoder_state_input_h,decoder_state_input_c]\n",
        "decoder_outputs,state_h,state_c=decoder_lstm(decoder_inputs,initial_state=decoder_state_inputs)\n",
        "\n",
        "decoder_states=[state_h,state_c]\n",
        "decoder_outputs = decoder_dense(decoder_outputs)\n",
        "\n",
        "decoder_model =Model([decoder_inputs]+decoder_states_inputs,[decoder_outputs]+decoder_states)\n",
        "\n",
        "reverse_input_char_index = dict((i, char) for char, i in input_token_index.items())\n",
        "reverse_target_char_index = dict((i, char) for char, i in target_token_index.items())"
      ],
      "metadata": {
        "trusted": true,
        "id": "ullPgN6CH307"
      },
      "outputs": [],
      "execution_count": null
    },
    {
      "cell_type": "code",
      "source": [
        "def decode_sequence(input_seq):\n",
        "    state_value = encoder_model.predict(input_seq)\n",
        "\n",
        "    target_seq = np.zeros((1,1,num_decoder_tokens))\n",
        "\n",
        "    target_seq[0, 0, target_token_index['%']] = 1\n",
        "\n",
        "    stop_condition = False\n",
        "\n",
        "    decoded_sentence = ''\n",
        "\n",
        "    while not stop_condition:\n",
        "\n",
        "        output_tokens,h,c=decoder_model.predict([target_seq]+states_value)\n",
        "\n",
        "        sampled_token_index = np.argmax(output_tokens[0, -1, :])\n",
        "        sample_char = reverse_target_char_index(sampled_token_index)\n",
        "\n",
        "        decoded_sentence+=sampled_char\n",
        "\n",
        "    if (sampled_char=='$' or\n",
        "       len(decoded_sentence)>max_decoder_seq_length):\n",
        "         stop_condition = True\n",
        "\n",
        "    target_seq = np.zeros((1,1,num_encoder_tokens))\n",
        "    target_seq[0, 0, sampled_token_index] = 1.\n",
        "\n",
        "    states_value = [h, c]\n",
        "\n",
        "\n",
        "    return decoded_sentence\n"
      ],
      "metadata": {
        "trusted": true,
        "id": "FHzMTG1iH307"
      },
      "outputs": [],
      "execution_count": null
    },
    {
      "cell_type": "code",
      "source": [
        "for seq_index in range(100):\n",
        "    input_seq = encoder_input_data[seq_index: seq_index + 1]\n",
        "    decoded_sentence = decode_sequence(input_seq)\n",
        "    print('-')\n",
        "    print('Input sentence : ', input_texts[seq_index])\n",
        "    print('Decoded sentence : ', decoded_sentence)"
      ],
      "metadata": {
        "trusted": true,
        "id": "I3DLrKFNH307"
      },
      "outputs": [],
      "execution_count": null
    }
  ]
}